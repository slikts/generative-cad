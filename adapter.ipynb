{
 "cells": [
  {
   "cell_type": "code",
   "execution_count": 15,
   "metadata": {},
   "outputs": [],
   "source": [
    "from adapter.adapter import make_adapter\n",
    "from adapter.base import make_base\n",
    "from adapter.tab_assembly import make_tab_assembly\n",
    "from adapter.tab import make_tab\n",
    "from adapter.nut_holder import make_nut_holder\n",
    "from adapter.defaults import *\n",
    "from ocp_vscode import show_object, reset_show"
   ]
  },
  {
   "cell_type": "code",
   "execution_count": null,
   "metadata": {},
   "outputs": [],
   "source": [
    "base = make_base(\n",
    "    base_diameter=base_diameter,\n",
    "    base_height=base_height,\n",
    "    base_thread_size=base_thread_size,\n",
    "    base_thread_depth=base_thread_depth,\n",
    ")\n",
    "reset_show()\n",
    "show_object(base)"
   ]
  },
  {
   "cell_type": "code",
   "execution_count": null,
   "metadata": {},
   "outputs": [
    {
     "name": "stdout",
     "output_type": "stream",
     "text": [
      "c"
     ]
    }
   ],
   "source": [
    "tab = make_tab(\n",
    "    tab_width=tab_width,\n",
    "    tab_height=tab_height,\n",
    "    tab_base_width=tab_base_width,\n",
    "    tab_hole_diameter=tab_hole_diameter,\n",
    ")\n",
    "reset_show()\n",
    "show_object(tab)"
   ]
  },
  {
   "cell_type": "code",
   "execution_count": 14,
   "metadata": {},
   "outputs": [
    {
     "name": "stdout",
     "output_type": "stream",
     "text": [
      "+"
     ]
    }
   ],
   "source": [
    "nut_holder = make_nut_holder(\n",
    "    outer_diameter=nut_outer_diameter,\n",
    "    base_height=nut_base_height,\n",
    "    nut_diameter=nut_diameter,\n",
    "    nut_teeth=nut_teeth,\n",
    "    hole_diameter=tab_hole_diameter,\n",
    "    nut_depth=nut_depth,\n",
    ")\n",
    "reset_show()\n",
    "show_object(nut_holder)"
   ]
  },
  {
   "cell_type": "code",
   "execution_count": 13,
   "metadata": {},
   "outputs": [
    {
     "name": "stdout",
     "output_type": "stream",
     "text": [
      "+"
     ]
    }
   ],
   "source": [
    "tab_assembly = make_tab_assembly(\n",
    "    tab_width=tab_width,\n",
    "    tab_height=tab_height,\n",
    "    tab_base_width=tab_base_width,\n",
    "    tab_hole_diameter=tab_hole_diameter,\n",
    "    tab_spacing=tab_spacing,\n",
    "    base_height=base_height,\n",
    "    num_tabs=num_tabs,\n",
    "    add_nut_holder=add_nut_holder,\n",
    ")\n",
    "reset_show()\n",
    "show_object(tab_assembly)"
   ]
  },
  {
   "cell_type": "code",
   "execution_count": 12,
   "metadata": {},
   "outputs": [
    {
     "name": "stdout",
     "output_type": "stream",
     "text": [
      "c"
     ]
    }
   ],
   "source": [
    "adapter = make_adapter(\n",
    "    base_diameter=base_diameter,\n",
    "    base_height=base_height,\n",
    "    base_thread_size=base_thread_size,\n",
    "    base_thread_depth=base_thread_depth,\n",
    "    tab_width=tab_width,\n",
    "    tab_height=tab_height,\n",
    "    tab_base_width=tab_base_width,\n",
    "    tab_hole_diameter=tab_hole_diameter,\n",
    "    tab_spacing=tab_spacing,\n",
    "    num_tabs=num_tabs,\n",
    "    nut_holder=add_nut_holder,\n",
    ")\n",
    "reset_show()\n",
    "show_object(adapter)\n"
   ]
  }
 ],
 "metadata": {
  "kernelspec": {
   "display_name": ".venv",
   "language": "python",
   "name": "python3"
  },
  "language_info": {
   "codemirror_mode": {
    "name": "ipython",
    "version": 3
   },
   "file_extension": ".py",
   "mimetype": "text/x-python",
   "name": "python",
   "nbconvert_exporter": "python",
   "pygments_lexer": "ipython3",
   "version": "3.10.16"
  }
 },
 "nbformat": 4,
 "nbformat_minor": 2
}
